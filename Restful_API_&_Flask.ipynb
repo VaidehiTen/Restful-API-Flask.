{
  "nbformat": 4,
  "nbformat_minor": 0,
  "metadata": {
    "colab": {
      "provenance": []
    },
    "kernelspec": {
      "name": "python3",
      "display_name": "Python 3"
    },
    "language_info": {
      "name": "python"
    }
  },
  "cells": [
    {
      "cell_type": "markdown",
      "source": [
        "# **Restful API & Flask Questions**\n"
      ],
      "metadata": {
        "id": "v3e_3_Y39v4W"
      }
    },
    {
      "cell_type": "markdown",
      "source": [
        "1. **What is a RESTful API**?\n",
        "-  A RESTful API is an architectural style for an application programming interface that uses HTTP requests to access and use data. That data can be used to GET, PUT, POST and DELETE data types, which refers to reading, updating, creating and deleting operations related to resources.\n",
        "-  An API is code that lets two software programs communicate with one another. The API's design spells out the proper way for a developer to write a program, or the client, that uses the API to request services from another application, or the server. APIs have become a vital mechanism for software interoperability.\n",
        "-  RESTful APIs are also referred to as RESTful web services and REST APIs. They're based on representational state transfer, an architectural style and approach to communications often used in web services development. This approach can also facilitate communication between other application types.\n",
        "-  **A REST API fundamentally relies on three major elements**:\n",
        "  >**Client**. The client is the software code or application that requests a resource from a server.\n",
        "  \n",
        "  >**Server**. The server is the software code or application that controls the resource and responds to client requests for the resource.\n",
        "  \n",
        "  >**Resource**. The resource is any data or content, such as text, video and images, the server controls and makes available in response to client requests.\n",
        "-  **To access a resource, the client sends an HTTP request to the server. Client requests include four principal parts**:\n",
        "   >**HTTP method**. This details what should happen to the specified resource. The four fundamental HTTP methods are known as verbs. They are POST to create a new resource, GET to retrieve an existing resource, PUT to update or change an existing resource, and DELETE to delete a resource. As the table below shows, these HTTP verbs correspond to the Create, Retrieve, Update, and Delete methods or actions, which are referred to as CRUD.\n",
        "   \n",
        "   >**Endpoint**. The endpoint shows where the resource is located. It typically includes a Uniform Resource Identifier (URI). If the resource is accessed through the internet, the URI can be a URL that provides a web address for the resource.\n",
        "   \n",
        "   >**Header**. A header has the details needed to execute the call and handle the response. A request header might include authentication data, an encryption key, more details about the server location or access information and details about the desired data format needed for the response.\n",
        "   \n",
        "   >**Body**. The body contains relevant information to or from the server. For example, a body may contain the new data to be added to the server through a POST or PUT method.\n",
        "-  **REST APIs have gained enormous popularity due to the numerous benefits available to developers and organizations, including the following(Advantages):**\n",
        "\n",
        "   >**Simplicity**. REST APIs use common HTTP methods, including GET, PUT, POST and DELETE requests, making them easy to design, implement and use.\n",
        "   \n",
        "   >**Independence**. Developers enjoy platform independence because they can use almost any programming language to create REST APIs. They work with various client devices, such as traditional web browsers, mobile devices and internet-of-things devices.\n",
        "   \n",
        "   >**Flexible**. REST APIs support many different data formats, including JSON, XML and plain text. Developers can choose the data format that best suits client needs and available server-side data.\n",
        "   \n",
        "   >**Scalable**. The stateless nature of REST APIs supports horizontal scaling, where many API calls run in parallel to handle significant API call loads.\n",
        "   \n",
        "   >**Cacheable**. REST APIs support caching, allowing data to be stored in local memory. This approach can speed server-side response time, potentially improving API performance. It might even eliminate the need for an API call if required data is already on the client from a prior call.\n",
        "   \n",
        "   >**Secure**. REST APIs can secure calls and data exchanges with Open Authorization (OAuth) authentication and Secure Sockets Layer/Transport Layer Security encryption.\n",
        "   \n",
        "   >**Compatible**. Proper use of versioning lets developers treat APIs as any other evolving software, adding new features over time with backward compatibility and support of legacy features for existing clients.   \n",
        "\n",
        "  "
      ],
      "metadata": {
        "id": "QGKfKZi3-Vwv"
      }
    },
    {
      "cell_type": "markdown",
      "source": [
        "2. **Explain the concept of API specification.**\n",
        "-  API Specification is more like an architectural blueprint. It is a comprehensive, technical description of the API’s behavior, detailing its operations, accessible endpoints, input and output for each call, and the data models it employs.\n",
        "-  Specifications are often written in machine-readable formats like YAML or JSON using standards like the OpenAPI Specification (OAS). This allows for automation in generating documentation, client libraries, and even test cases, thus streamlining the development process.\n",
        "-  For developers who are building or maintaining an API, the specification provides a rigorous and precise structure to work from, ensuring that the API is built to spec and can interact correctly with other software.\n",
        "-  Unlike API documentation, which is intended for developers who want to use an API, API specification is intended for developers who want to build an API."
      ],
      "metadata": {
        "id": "ZUrS1WiNKfXV"
      }
    },
    {
      "cell_type": "markdown",
      "source": [
        "3. **What is Flask, and why is it popular for building APIs?**\n",
        "-  Flask is a lightweight Python web framework ideal for building RESTful APIs and microservices. Unlike heavier frameworks like Django, Flask is minimal and unopinionated, giving developers full control over application structure. This flexibility makes it an excellent choice for developing custom, scalable web APIs tailored to specific project requirements.\n",
        "-  Flask is popular for building APIs:\n",
        "  \n",
        "  >Simplicity and Minimalism:\n",
        "   Flask's design is minimalistic, making it easy to learn and use, even for those new to web development.\n",
        "  \n",
        "  >Flexibility:\n",
        "   Flask allows developers to add only the components they need, resulting in cleaner and more efficient code. This flexibility makes it ideal for building custom APIs tailored to specific project requirements.\n",
        "\n",
        "  >Lightweight and Fast:\n",
        "   Flask is lightweight and fast, making it suitable for small to medium-sized APIs and prototypes.\n",
        "  \n",
        "  >Well-Documented and Supported:\n",
        "   Flask has a large and active community, with comprehensive documentation and numerous resources available.  \n",
        "\n",
        "  >Extensibility:\n",
        "   Flask supports a wide range of extensions that can enhance its functionality, such as database integration, form handling, and more.\n",
        "  \n",
        "  >RESTful API Support:\n",
        "   Flask is well-suited for creating RESTful APIs, which are a standard way to access web services using a set of operations.\n",
        "\n",
        "  >Pythonic:\n",
        "   Flask's design aligns well with the Pythonic style of coding, making it a comfortable and natural choice for Python developers.  \n",
        "\n",
        "  >Ease of Use:\n",
        "   Flask's simple structure and straightforward syntax make it easy to learn and get started with, even for those new to web development or API creation.\n",
        "‍"
      ],
      "metadata": {
        "id": "b7RXtxc1OT9r"
      }
    },
    {
      "cell_type": "markdown",
      "source": [
        "4. **What is routing in Flask?**\n",
        "-  Routing is the technique used to map the specific URL with the associated function intended to perform some task. The Latest Web frameworks use the routing technique to help users remember application URLs. It is helpful to access the desired page directly without navigating from the home page.\n"
      ],
      "metadata": {
        "id": "l1khpVapenS3"
      }
    },
    {
      "cell_type": "markdown",
      "source": [
        "5. **How do you create a simple Flask application?**\n",
        "-  Flask application involves a few core theoretical concepts and practical steps:\n",
        "  \n",
        "   >1. Flask Application Instance:\n",
        "     At its heart, a Flask application is an instance of the Flask class. This instance acts as the central object where all configurations, routes, and extensions are registered. The __name__ argument passed during instantiation helps Flask locate resources like templates and static files.\n",
        "   \n",
        "   >2. Routing and View Functions:\n",
        "     Flask applications handle incoming web requests by mapping URLs to specific Python functions called \"view functions.\" This mapping is achieved using the @app.route() decorator. When a request arrives at a defined URL, the corresponding view function is executed, and its return value is sent as an HTTP response to the client (e.g., a web browser).\n",
        "   \n",
        "   >3. Running the Development Server:\n",
        "     Flask includes a built-in development server for testing your application. This server can be started by calling app.run(). The debug=True argument is commonly used during development to enable automatic code reloading and provide more detailed error messages.\n",
        "   \n",
        "   >4. Project Structure (Simple Case):\n",
        "     For a very simple application, all the code can reside in a single Python file, typically named app.py. As applications grow, a more structured project layout with separate folders for templates, static files, and modules becomes beneficial.\n",
        "\n",
        "-  creating a simple Flask application involves:\n",
        "  - Importing: the Flask class.\n",
        "  - Instantiating: a Flask object.\n",
        "  - Defining routes: using the @app.route() decorator.\n",
        "  - Writing view functions: that return the content to be displayed.\n",
        "  - Running: the application using app.run()."
      ],
      "metadata": {
        "id": "NboMt1xlu7id"
      }
    },
    {
      "cell_type": "markdown",
      "source": [
        "6. **What are HTTP methods used in RESTful APIs?**\n",
        "-  Developers often implement RESTful APIs by using the Hypertext Transfer Protocol (HTTP). An HTTP method tells the server what it needs to do to the resource. The following are four common HTTP methods:\n",
        "\n",
        "  >**GET**\n",
        "   Clients use GET to access resources that are located at the specified URL on the server. They can cache GET requests and send parameters in the RESTful API request to instruct the server to filter data before sending.\n",
        "\n",
        "  >**POST**\n",
        "   Clients use POST to send data to the server. They include the data representation with the request. Sending the same POST request multiple times has the side effect of creating the same resource multiple times.\n",
        "\n",
        "  >**PUT**\n",
        "   Clients use PUT to update existing resources on the server. Unlike POST, sending the same PUT request multiple times in a RESTful web service gives the same result.\n",
        "\n",
        "  >**DELETE**\n",
        "   Clients use the DELETE request to remove the resource. A DELETE request can change the server state. However, if the user does not have appropriate authentication, the request fails."
      ],
      "metadata": {
        "id": "cgUz8TTQwR6N"
      }
    },
    {
      "cell_type": "markdown",
      "source": [
        "7. **What is the purpose of the @app.route() decorator in Flask?**\n",
        "-  The @app.route() decorator in Flask is used to define URL routes within a web application. It connects a specific URL path to a corresponding Python function, known as a view function, which contains the logic to handle requests for that route.\n",
        "-  When a client sends an HTTP request to a URL that matches a route defined by @app.route(), Flask calls the linked view function. This function then processes the request, carries out any required tasks (such as querying a database or processing data), and returns an appropriate HTTP response—such as an HTML page, a JSON object, or a redirect.\n",
        "-  In summary, @app.route() serves as the bridge between URLs and the code that handles them, enabling developers to create clear, organized endpoints that power different features or content within a Flask application.\n",
        "\n",
        "\n",
        "\n",
        "\n"
      ],
      "metadata": {
        "id": "80PvZ6f_xp-9"
      }
    },
    {
      "cell_type": "markdown",
      "source": [
        "8. **What is the difference between GET and POST HTTP methods?**\n",
        "-  GET and POST are two fundamental HTTP request methods used for communication between clients (like web browsers) and servers. While they may seem similar at first glance, they have several crucial differences that every web developer should understand and consider when designing and implementing web applications and APIs.\n",
        "-  **GET**\n",
        "  >**Definition** : GET request is a type of HTTP request method used to request data from a specified resource. GET requests are commonly used to retrieve information from a server. They are designed for querying, searching, or fetching information without modifying any resources on the server.\n",
        "\n",
        "  >**Request Body** : GET requests include all required data in the URL itself, appended as query parameters. For example: https://example.com/products?category=electronics&sort=price.\n",
        "\n",
        "  >**Common Usage** : GET requests are commonly used for retrieving data from a server or resource, where the requested data is passed as query parameters in the URL.\n",
        "\n",
        "  >**Data Visibility** : In GET requests, the data is visible in the URL, which can be seen in browser history, server logs, and potentially by others on the network. This can be a security concern if sensitive data is transmitted. For example, if you need to pass a user's password as a parameter, using a GET request would expose it in the URL.\n",
        "\n",
        "  >**Data Types** : GET requests can only send text data (ASCII characters) due to the limitations of the URL structure and the way query parameters are encoded.\n",
        "\n",
        "  >**Length Limitations** : The amount of data that can be sent with a GET request is limited by the maximum length of a URL. This limitation can vary between browsers and servers. If large amounts of data need to be sent, other HTTP methods like POST may be more appropriate.\n",
        "\n",
        "  >**Idempotence** : GET requests are considered idempotent, meaning that making the same request multiple times should have the same effect as making it once. In other words, repeating a GET request should not have any additional side effects on the server or the requested resource.\n",
        "\n",
        "  >**API Security** :\n",
        "  - Use HTTPS to encrypt data in transit, protecting parameters passed in URLs.\n",
        "  - Avoid sensitive data in URLs to prevent exposure through server logs or browser history.\n",
        "  - Validate input to defend against SQL injection and other injection attacks.\n",
        "  - Implement rate limiting to protect against DoS attacks and abuse.\n",
        "  - Be cautious with caching, ensuring sensitive information isn't stored or exposed.\n",
        "\n",
        "-  **POST**\n",
        "  >**Definition** : POST requests are used to pass and submit data to be processed by the server. They are commonly used for creating, updating, or deleting resources, such as creating a new user account or updating some forms.\n",
        "\n",
        "  >**Request Body** : POST requests carry the data in the request body, separate from the URL. This allows for larger amounts of data to be transmitted, including binary data like files or complex data structures like JSON or XML. For example, when submitting a form, the form data would be sent in the request body of a POST request.\n",
        "\n",
        "  >**Common Usage** : POST requests are commonly used for submitting HTML forms on web pages, file uploads, and for making complex API requests where the data being sent is not easily represented in a URL.\n",
        "\n",
        "  >**Data Visibility** : In POST requests, the data is not visible in the URL, providing a higher level of privacy and security. The data is instead included in the request body, which is not visible to others.\n",
        "\n",
        "  >**Data Types** : POST requests can transmit data of any type, including binary files, JSON, XML, and more, making them more versatile for handling complex data payloads. For example, when uploading a profile picture, the image file would be sent in the request body of a POST request.\n",
        "\n",
        "  >**Length Limitations** : While GET requests are limited by the maximum length of a URL, POST requests typically have a much higher limit on the amount of data that can be sent. This makes POST suitable for sending large amounts of data, such as file uploads.\n",
        "\n",
        "  >**Idempotence** : POST requests are not considered idempotent, meaning that making the same request multiple times may have different effects each time. For example, submitting a form twice might result in two different records being created on the server.\n",
        "\n",
        "  >**API Security** :\n",
        "  - Enforce HTTPS for secure data transmission.\n",
        "  - Use token-based authentication (like JWT or OAuth) for secure access control.\n",
        "  - Validate and sanitize input to prevent XSS, SQL Injection, and other vulnerabilities.\n",
        "  - Protect against CSRF attacks by using anti-CSRF tokens.\n",
        "  - Validate Content-Type to ensure the API handles only expected data formats."
      ],
      "metadata": {
        "id": "dLj5FlIGy6hF"
      }
    },
    {
      "cell_type": "markdown",
      "source": [
        "9. **How do you handle errors in Flask APIs?**\n",
        "-  The error handling in APIFlask is based on the following basic concepts\n",
        "  - All the automatic errors (404, 405, 500) will be in JSON format by default.\n",
        "  - Errors are built on top of the `HTTPError` base exception class.\n",
        "  - Use `APIFlask.abort()` function or raise `HTTPError` classes to generate an error response.\n",
        "  - Use `app.error_processor` (`app` is an instance of `apiflask.APIFlask`) to register a custom error response processor.\n",
        "  - Use `auth.error_processor` (auth is an instance of `apiflask.HTTPBasicAuth` or `apiflask.HTTPTokenAuth`) to register a custom auth error response processor.\n",
        "  - Subclass `HTTPError` to create custom error classes for your errors."
      ],
      "metadata": {
        "id": "-i37NPdo49gB"
      }
    },
    {
      "cell_type": "markdown",
      "source": [
        "10. **How do you connect Flask to a SQL database?**\n",
        "-   To connect Flask to a SQL database, the most common and efficient way is to use an Object Relational Mapper (ORM) like SQLAlchemy, or a Flask extension such as Flask-SQLAlchemy, which simplifies the integration.\n",
        "  - *install flask_sqlalchemy*\n",
        "\n",
        "     `pip install flask_sqlalchemy`\n",
        "\n",
        "  - *import sqlalchemy*\n",
        "\n",
        "     `from flask_sqlalchemy import SQLAlchemy`\n",
        "\n",
        "  - *connect url*\n",
        "\n",
        "     Flask SQLAlchemy support many sql databases. You can connect url with flask app according to type of your database. Connection URI Format. In this case, I use sqlite with url sqlite:///{db_name}. I create library database to store user data.\n",
        "\n",
        "     `app.config['SQLALCHEMY_DATABASE_URI'] = 'sqlite:///library.db'`\n",
        "     `app.config['SQLALCHEMY_TRACK_MODIFICATIONS'] = False`\n",
        "    \n",
        "     There will be a warning, if there is no Track Modifications config key. That warning wants us to set True or False to TRACK_MODIFICATIONS. In our case, we don’t need it so you can set it to False.\n",
        "\n",
        "  - *connect database with flask*\n",
        "    \n",
        "     `db = SQLAlchemy(app)`\n",
        "   "
      ],
      "metadata": {
        "id": "vzoffwiE75xY"
      }
    },
    {
      "cell_type": "markdown",
      "source": [
        "11. **What is the role of Flask-SQLAlchemy?**\n",
        "-   Flask-SQLAlchemy is an extension for Flask, a popular Python web framework, that integrates SQLAlchemy, a powerful SQL toolkit and Object-Relational Mapper (ORM) for Python.\n",
        "-   With Flask-SQLAlchemy, developers can easily connect Flask applications to databases, execute complex queries, and manage data without writing raw SQL. It simplifies database operations and helps maintain cleaner code, while providing a powerful abstraction layer for interacting with databases.  \n",
        "-   Abstraction and Convenience : Flask-SQLAlchemy abstracts away much of the boilerplate code required to use SQLAlchemy, such as setting up the database engine, managing connections, and creating sessions, making the development process faster and less prone to errors.\n",
        "It provides a layer of abstraction over SQLAlchemy, allowing developers to interact with databases using Python objects and methods instead of raw SQL queries.\n",
        "This abstraction also helps in maintaining cleaner code and improving code readability.\n",
        "-  Database Integration : Flask-SQLAlchemy simplifies the process of connecting Flask applications to various relational databases, including SQLite, PostgreSQL, and MySQL.\n",
        "It provides a db object that is integrated with the Flask application, allowing you to easily interact with the database.\n",
        "This integration allows you to perform common database operations like creating tables, adding, retrieving, updating, and deleting data.\n",
        "-  ORM Support : SQLAlchemy's Object-Relational Mapper (ORM) is a key feature that Flask-SQLAlchemy leverages. The ORM allows you to work with database tables as Python objects.\n",
        "This means you can define your database models as Python classes and interact with them using Python methods instead of writing SQL queries directly.\n",
        "Flask-SQLAlchemy provides a convenient way to define these models and manage relationships between them.\n",
        "-  Simplified Database Management : Flask-SQLAlchemy provides tools for managing database migrations, which are essential for evolving your database schema over time.\n",
        "It also handles session management, ensuring that database sessions are properly created and closed within the context of each web request."
      ],
      "metadata": {
        "id": "RYfnnzKsDdpf"
      }
    },
    {
      "cell_type": "markdown",
      "source": [
        "12. **What are Flask blueprints, and how are they useful?**\n",
        "-   Flask blueprints are a way to organize your Flask application into reusable and most importantly maintainable units. With blueprints, you can break your application into smaller, more manageable pieces, making it easier to maintain and scale.\n",
        "-   Each blueprint is a self-contained unit that can be registered with your Flask application. Blueprints define a set of views, templates, and static files that are associated with a specific URL prefix.\n",
        "-   Using blueprints, you can create a flexible and extensible application structure that allows you to add new features and functionality without disrupting the existing codebase.  \n",
        "-   how Flask blueprints useful :\n",
        "   >Modular Structure : Blueprints help structure your application by breaking it down into smaller, self-contained units. Each blueprint can handle a specific part of the application, such as user management, product catalog, or admin panel.\n",
        "   \n",
        "   >Code Reusability : Blueprints can be reused across different parts of your application or even in other applications. This promotes code reuse and reduces redundancy.\n",
        "   \n",
        "   >Improved Maintainability : By separating your application into smaller, well-defined units, blueprints make it easier to understand, modify, and debug your code.\n",
        "   \n",
        "   >Scalability : As your application grows, blueprints help you scale your application by adding new features or modules without affecting the existing codebase significantly.\n",
        "   \n",
        "   >Collaboration : Blueprints can facilitate collaboration among developers by allowing them to work on different parts of the application simultaneously without interfering with each other.\n",
        "   \n",
        "   >Registration with Application : Blueprints are not active until they are registered with the Flask application instance. This registration process links the blueprint's routes, views, and other resources to the main application.\n",
        "   \n",
        "   >URL Prefixing : Blueprints can define a URL prefix, which is automatically applied to all routes defined within that blueprint. This helps organize routes and avoid naming conflicts."
      ],
      "metadata": {
        "id": "OdqtcVK3E1Au"
      }
    },
    {
      "cell_type": "markdown",
      "source": [
        "13. **What is the purpose of Flask's request object?**\n",
        "-   In Flask, the request object represents the incoming HTTP request sent by the client to the server. It provides access to various components of the request, such as form data, query parameters, headers, files, and more.\n",
        "-   This object allows developers to:\n",
        "  - **Access Form Data** : Retrieve data submitted through HTML forms using `request.form` for POST requests or `request.args` for GET requests (query parameters).\n",
        "  - **Handle File Uploads** : Access uploaded files using `request.files`.\n",
        "  - **Read Request Headers** : Inspect HTTP headers sent by the client using `request.headers`.\n",
        "  - **Determine HTTP Method** : Identify the HTTP method (e.g., GET, POST, PUT, DELETE) of the request using `request.method`.\n",
        "  - **Get Request URL Information** : Access details about the requested URL, including the path, hostname, and scheme.\n",
        "  - **Process JSON Data** : If the client sends JSON data, it can be accessed using `request.json`.\n",
        "  - **Access Cookies** : Retrieve cookie values sent by the client using `request.cookies`.\n",
        "  - **Get Client IP Address** : Obtain the IP address of the client making the request using `request.remote_addr`."
      ],
      "metadata": {
        "id": "R6ls7Q_vGwM4"
      }
    },
    {
      "cell_type": "markdown",
      "source": [
        "14. **How do you create a RESTful API endpoint using Flask?**\n",
        "-   Creating a RESTful API endpoint using Flask involves defining routes that correspond to specific HTTP methods (GET, POST, PUT, DELETE) for interacting with resources.\n",
        "-   Basic Steps to Create a Flask RESTful Endpoint:\n",
        "  > install flask.\n",
        "\n",
        "        `pip install Flask`\n",
        "\n",
        "  > Create a Python file (e.g., app.py) and initialize your Flask application:\n",
        "\n"
      ],
      "metadata": {
        "id": "8xkQXv5NKU4v"
      }
    },
    {
      "cell_type": "code",
      "source": [
        "    from flask import Flask, jsonify, request\n",
        "\n",
        "    app = Flask(__name__)"
      ],
      "metadata": {
        "id": "hJ4jNXE8L17G"
      },
      "execution_count": null,
      "outputs": []
    },
    {
      "cell_type": "markdown",
      "source": [
        "-   Define Routes and HTTP Methods :\n",
        "  > Use the @app.route() decorator to define routes and specify the allowed HTTP methods using the methods parameter. **GET Endpoint (Retrieve Data)**."
      ],
      "metadata": {
        "id": "f6UYpdVbL3MC"
      }
    },
    {
      "cell_type": "code",
      "source": [
        "        @app.route('/items', methods=['GET'])\n",
        "        def get_items():\n",
        "            # Logic to retrieve all items\n",
        "            items = [{\"id\": 1, \"name\": \"Item A\"}, {\"id\": 2, \"name\": \"Item B\"}]\n",
        "            return jsonify(items)\n",
        "\n",
        "        @app.route('/items/<int:item_id>', methods=['GET'])\n",
        "        def get_item(item_id):\n",
        "            # Logic to retrieve a specific item by ID\n",
        "            # Example: find item in a list based on item_id\n",
        "            if item_id == 1:\n",
        "                return jsonify({\"id\": 1, \"name\": \"Specific Item\"})\n",
        "            else:\n",
        "                return jsonify({\"message\": \"Item not found\"}), 404"
      ],
      "metadata": {
        "id": "psJ8xhHwMLKy"
      },
      "execution_count": null,
      "outputs": []
    },
    {
      "cell_type": "markdown",
      "source": [
        "  > **POST Endpoint (Create Data)**."
      ],
      "metadata": {
        "id": "9LBvCLUSMNSa"
      }
    },
    {
      "cell_type": "code",
      "source": [
        "        @app.route('/items', methods=['POST'])\n",
        "        def create_item():\n",
        "            data = request.get_json()  # Get JSON data from the request body\n",
        "            # Logic to create a new item using the received data\n",
        "            new_item = {\"id\": 3, \"name\": data.get(\"name\")}\n",
        "            return jsonify(new_item), 201  # Return 201 Created status"
      ],
      "metadata": {
        "id": "WCMO7NTSMUfh"
      },
      "execution_count": null,
      "outputs": []
    },
    {
      "cell_type": "markdown",
      "source": [
        "  > **PUT Endpoint (Update Data).**"
      ],
      "metadata": {
        "id": "yKhbSUAYMYAr"
      }
    },
    {
      "cell_type": "code",
      "source": [
        "        @app.route('/items/<int:item_id>', methods=['PUT'])\n",
        "        def update_item(item_id):\n",
        "            data = request.get_json()\n",
        "            # Logic to update the item with the given ID\n",
        "            return jsonify({\"message\": f\"Item {item_id} updated\", \"new_name\": data.get(\"name\")})"
      ],
      "metadata": {
        "id": "xqhzEcZcMc5j"
      },
      "execution_count": null,
      "outputs": []
    },
    {
      "cell_type": "markdown",
      "source": [
        "  > **DELETE Endpoint (Delete Data)**."
      ],
      "metadata": {
        "id": "l8DM4K3mMfot"
      }
    },
    {
      "cell_type": "code",
      "source": [
        "        @app.route('/items/<int:item_id>', methods=['DELETE'])\n",
        "        def delete_item(item_id):\n",
        "            # Logic to delete the item with the given ID\n",
        "            return jsonify({\"message\": f\"Item {item_id} deleted\"})"
      ],
      "metadata": {
        "id": "HgePT8sYMj6G"
      },
      "execution_count": null,
      "outputs": []
    },
    {
      "cell_type": "markdown",
      "source": [
        "  > Run the Flask Application."
      ],
      "metadata": {
        "id": "OmlaIRfgMl5b"
      }
    },
    {
      "cell_type": "code",
      "source": [
        "    if __name__ == '__main__':\n",
        "        app.run(debug=True) # debug=True for development, disable in production"
      ],
      "metadata": {
        "id": "SyXGRUtxMpsi"
      },
      "execution_count": null,
      "outputs": []
    },
    {
      "cell_type": "markdown",
      "source": [
        "15. **What is the purpose of Flask's jsonify() function?**\n",
        "-   The purpose of Flask's `jsonify() `function is to convert Python dictionaries or lists into a JSON (JavaScript Object Notation) formatted string and return it as a Response object with the appropriate Content-Type header set to `application/json`. This simplifies the process of creating JSON responses in Flask applications, especially for APIs.\n",
        "-   key parts\n",
        "  > Converts Python data to JSON : `jsonify()` takes Python objects (like dictionaries or lists) as input and transforms them into a JSON string representation.\n",
        "  \n",
        "  > Sets Content-Type header : It automatically includes the Content-Type: application/json header in the HTTP response. This tells the client (e.g., a web browser or another application) that the response body contains JSON data.\n",
        "  \n",
        "  >Returns a Response object : Instead of just a string, `jsonify()` returns a Response object (a Flask object) that encapsulates the JSON data and the header. This is the standard way to send responses in Flask.\n",
        "  \n",
        "  >Simplifies API development : By handling the JSON conversion and header setting, `jsonify()` makes it easier to create APIs that return structured data in a standard format."
      ],
      "metadata": {
        "id": "eIdKwGXuMxY1"
      }
    },
    {
      "cell_type": "markdown",
      "source": [
        "16. **Explain Flask’s url_for() function**.\n",
        "-   Flask's `url_for()` function dynamically generates URLs for specific view functions within a Flask application. Its primary purpose is to avoid hardcoding URLs, which makes the application more maintainable and flexible, especially when route paths change.\n",
        "-   How it works:\n",
        "  - Takes the endpoint name : The first argument to `url_for()` is the endpoint name of the view function. By default, this is the name of the function itself.\n",
        "  - Handles variable parts of URLs : If a route contains variable parts (e.g., <name>), `url_for()` accepts these as keyword arguments.\n",
        "  - Adds query parameters: Additional keyword arguments passed to `url_for() `that are not part of the URL rule are added as query parameters.\n",
        "-   Benefits of using url_for():\n",
        "  - Maintainability : If a URL path changes, only the `@app.route()` decorator needs to be updated; all `url_for()` calls referencing that endpoint will automatically generate the correct new URL.\n",
        "  - Flexibility : It allows for dynamic URL generation based on varying parameters, making it easier to build complex navigation and links.\n",
        "  - Blueprint compatibility : When using Flask Blueprints, `url_for()` correctly resolves URLs within the context of the respective blueprint, ensuring correct routing even with multiple instances of the same blueprint.\n",
        "  - Static files : It can also be used to generate URLs for static files (CSS, JavaScript, images) using the static endpoint.  \n"
      ],
      "metadata": {
        "id": "lgI6X_F0O8eu"
      }
    },
    {
      "cell_type": "markdown",
      "source": [
        "17. **How does Flask handle static files (CSS, JavaScript, etc.)**.\n",
        "-   Flask provides a straightforward mechanism for handling static files such as CSS stylesheets, JavaScript files, images, and other client-side assets.\n",
        "  >The static Folder:\n",
        "  - By convention, Flask applications expect static files to reside in a dedicated folder named static within the application's root directory.\n",
        "  - You create this static folder yourself and organize your static assets within it (e.g., static/css/, static/js/, static/images/).\n",
        "\n",
        "  > Accessing Static Files in Templates:\n",
        "  - Within your Jinja2 templates (which Flask uses for rendering HTML), you use the url_for() function to generate URLs for static files.\n",
        "  - The url_for() function takes two arguments for static files :\n",
        "  \n",
        "     *'static': This specifies that you are referencing a static file.*\n",
        "    \n",
        "     *filename='path/to/your/file.ext': This specifies the path to your static file relative to the static folder.*\n",
        "\n",
        "  > Automatic Serving:\n",
        "  - Flask automatically serves files from the static folder at the URL path /static/.\n",
        "  - For example, if you have static/css/style.css, it will be accessible at /static/css/style.css in your browser.\n",
        "-   This approach simplifies static file management during development, allowing you to easily link and serve client-side resources without complex server configurations.  \n",
        ""
      ],
      "metadata": {
        "id": "k9e8QHmyQYED"
      }
    },
    {
      "cell_type": "markdown",
      "source": [
        "18. **What is an API specification, and how does it help in building a Flask API?**\n",
        "-   An API specification is a formal, structured description of how an API works. It defines the endpoints, methods, request/response formats, data models, authentication requirements, and error codes of an API — typically in a machine-readable format like OpenAPI (formerly Swagger)\n",
        "-   In simple terms, an API specification answers:\n",
        "  - What endpoints are available?\n",
        "  - What HTTP methods (GET, POST, etc.) does each use?\n",
        "  - What data should clients send or expect?\n",
        "  - What status codes and errors might occur?\n",
        "-   How It Helps When Building a Flask API:\n",
        "  - **Clear Contract**\tProvides a shared agreement between backend and frontend developers or third-party consumers.\n",
        "  - **Documentation**\tTools like Swagger UI can automatically generate interactive API docs from the spec.\n",
        "  - **Validation**\tYou can automatically validate requests and responses against the spec to catch errors early.\n",
        "  - **Mocking**\tAPI clients can be tested even before the backend is built using mock servers based on the spec.\n",
        "  - **Code Generation**\tSome tools can auto-generate Flask routes, client SDKs, or model classes from the spec.  \n",
        "-   An API specification acts like a blueprint for your Flask API. It promotes consistency, makes development faster and safer, improves collaboration, and enables powerful automation like code generation and testing.  \n",
        "\n"
      ],
      "metadata": {
        "id": "KUzEcne0duxc"
      }
    },
    {
      "cell_type": "markdown",
      "source": [
        "19. **What are HTTP status codes, and why are they important in a Flask API?**\n",
        "-   HTTP status codes are three-digit codes that indicate the outcome of an API request. They are included in the API’s response to the API client, and they include important information that helps the client know how to proceed\n",
        "-   HTTP status codes are essential to the HTTP protocol, which defines how data is transferred between clients and servers on the internet. Anyone who works with web-based technologies should have a solid understanding of these codes, as they provide valuable insight that can be used to troubleshoot issues and improve the user experience.\n",
        "-   HTTP status codes importance in a Flask API:\n",
        "  - **Clarity and Consistency**:\n",
        "     Using standard HTTP status codes provides a consistent and understandable way to communicate with clients, regardless of the underlying implementation.\n",
        "  - **Error Handling**:\n",
        "     Proper status codes enable robust error handling in the client application. Clients can take appropriate action based on the received code (e.g., display an error message, retry the request, or prompt the user for more information).\n",
        "  - **API Testing**:\n",
        "     Status codes are essential for testing Flask APIs. Tools like Postman allow you to send requests and verify the returned status codes."
      ],
      "metadata": {
        "id": "EEj_4MIdfmfC"
      }
    },
    {
      "cell_type": "markdown",
      "source": [
        "20. **How do you handle POST requests in Flask?**\n",
        "-   Handling POST requests in Flask is a common task when building APIs or web forms. A POST request is typically used to submit data to the server, such as creating a new user, submitting a form, or uploading a file.\n",
        "-   **Steps to handle POST requests:**\n",
        "- Import request: Begin by importing the request object from the Flask library, which provides access to incoming request data.\n",
        "  >    `from flask import Flask, request`\n",
        "- Define a route with `methods=['POST']`: Use the `@app.route()` decorator to define the URL endpoint for your POST request. Crucially, include methods=['POST'] (or methods=['GET', 'POST'] if it also handles GET requests) to specify that this route should respond to POST requests."
      ],
      "metadata": {
        "id": "osbB27IViTq1"
      }
    },
    {
      "cell_type": "code",
      "source": [
        "    @app.route('/submit_data', methods=['POST'])\n",
        "    def handle_submission():\n",
        "        # ... logic to handle POST data ...\n",
        "        return \"Data received!\""
      ],
      "metadata": {
        "id": "3RIOpFdqnyEh"
      },
      "execution_count": null,
      "outputs": []
    },
    {
      "cell_type": "markdown",
      "source": [
        "-   Access POST data: Inside your view function (e.g., handle_submission), access the submitted data using the request object.\n",
        "  - Form data: If the data is sent as application/x-www-form-urlencoded (standard HTML form submission), use request.form.get('field_name') to retrieve specific fields."
      ],
      "metadata": {
        "id": "6k-fTmtcnzTX"
      }
    },
    {
      "cell_type": "code",
      "source": [
        "        username = request.form.get('username')\n",
        "        password = request.form.get('password')"
      ],
      "metadata": {
        "id": "6AxZGPS0n7AQ"
      },
      "execution_count": null,
      "outputs": []
    },
    {
      "cell_type": "markdown",
      "source": [
        "-   JSON data: If the data is sent as application/json (common in API requests), use request.json to access the JSON payload as a Python dictionary."
      ],
      "metadata": {
        "id": "T8YUreHan-l2"
      }
    },
    {
      "cell_type": "code",
      "source": [
        "        data = request.json\n",
        "        item_name = data.get('name')\n",
        "        item_price = data.get('price')"
      ],
      "metadata": {
        "id": "5EmCt9NLoDyg"
      },
      "execution_count": null,
      "outputs": []
    },
    {
      "cell_type": "markdown",
      "source": [
        "21. **How would you secure a Flask API?**\n",
        "-   Securing a Flask API involves implementing a range of best practices to protect against common web vulnerabilities.\n",
        "-   **Authentication and Authorization**:\n",
        "  - Implement robust authentication : Utilize libraries like Flask-Login for session-based authentication or implement token-based authentication (e.g., JWT) for stateless APIs.\n",
        "  - Enforce authorization : Define roles and permissions (e.g., using Flask-Security-Too or Flask-Principal) to restrict access to API endpoints based on user roles and privileges.\n",
        "-   **Input Validation and Sanitization**:\n",
        "  - Validate all input : Use libraries like Flask-WTF or Marshmallow to validate and sanitize all incoming data to prevent injection attacks (SQL injection, XSS) and ensure data integrity.\n",
        "  - Escape output : When rendering dynamic content, use Flask's Jinja2 templating engine, which automatically escapes output to prevent XSS.\n",
        "-   **Secure Communication:**\n",
        "  - Use HTTPS : Always serve your API over HTTPS to encrypt communication and protect against Man-in-the-Middle (MITM) attacks.\n",
        "  - Secure cookies : Configure cookies with `Secure`, `HttpOnly`, and `SameSite` flags to enhance session security and prevent CSRF attacks.\n",
        "-   **Error Handling and Logging**:\n",
        "  - Implement proper error handling : Avoid revealing sensitive information in error messages. Provide generic error responses and log detailed error information on the server side.\n",
        "  - Monitor and log activity : Implement comprehensive logging to track API requests, responses, and potential security incidents for detection and analysis.    \n",
        "-    **Dependency Management and Updates:**\n",
        "  - Regularly update dependencies : Keep all Flask extensions and other libraries updated to their latest versions to benefit from security patches and bug fixes.\n",
        "  - Pin dependencies : Use a `requirements.txt` file to pin specific versions of your dependencies to ensure consistent environments and prevent unexpected issues.\n",
        "-   **Configuration and Secrets Management:**\n",
        "  - Avoid hardcoding sensitive data : Store API keys, database credentials, and other sensitive information in environment variables or a secure configuration management system, not directly in your code.\n",
        "  - Encrypt sensitive data at rest : If sensitive data needs to be stored in configuration files, ensure it is encrypted.\n",
        "-   **Rate Limiting:**\n",
        "  - Implement rate limiting: Use extensions like Flask-Limiter to restrict the number of requests a client can make within a given timeframe, mitigating brute-force attacks and denial-of-service attempts.\n",
        "-   **Secure Headers:**\n",
        "  - Utilize security headers: Implement headers like Content Security Policy (CSP), X-Frame-Options, and Strict-Transport-Security (HSTS) to enhance browser-level security. Flask-Talisman can simplify this."
      ],
      "metadata": {
        "id": "NmkiCrH4obDR"
      }
    },
    {
      "cell_type": "markdown",
      "source": [
        "22. **What is the significance of the Flask-RESTful extension?**\n",
        "-   Flask-RESTful is a Flask extension that simplifies the development of REST APIs. It provides a structured way to handle resources and HTTP methods, making it easier to build and organize APIs using Python and Flask. Essentially, it streamlines the process of creating web services that adhere to REST architectural principles.\n",
        "-   Here's a summary of why it's significant:\n",
        "   >Structure and Organization:\n",
        "   - Resource-based approach:\n",
        "Flask-RESTful introduces the concept of \"resources\" as classes, with each class method representing an HTTP method (GET, POST, PUT, DELETE). This creates a clear structure for your API endpoints, making it more organized and maintainable.\n",
        "   - Separation of concerns:\n",
        "By separating resource definitions from route handling, it promotes modularity and cleaner code.\n",
        "   - Object-oriented development:\n",
        "Leveraging classes for resources aligns with object-oriented programming principles, enhancing code reusability and scalability.\n",
        "   \n",
        "   >Simplified API Development:\n",
        "   - Automatic request parsing and response formatting:\n",
        "Flask-RESTful handles common tasks like parsing request data (JSON, XML, etc.) and formatting responses, reducing boilerplate code.\n",
        "   - Built-in features:\n",
        "It offers built-in support for input validation, error handling, and rate limiting, which are crucial for building robust and secure APIs.\n",
        "Integration with Flask:\n",
        "It seamlessly integrates with other Flask extensions, allowing you to build complex and feature-rich APIs.\n",
        "   \n",
        "   >Adherence to RESTful Principles:\n",
        "   - RESTful architecture:\n",
        "Flask-RESTful is designed to support the REST architectural style, promoting statelessness, uniform interfaces, and resource-based interactions.\n",
        "   - Clear API design:\n",
        "Its resource-based approach and support for standard HTTP methods contribute to a well-defined and predictable API design.\n",
        "   \n",
        "   >Efficiency and Scalability:\n",
        "   - Reduced boilerplate:\n",
        "By handling common tasks automatically, Flask-RESTful reduces the amount of repetitive code, allowing developers to focus on core business logic.\n",
        "   - Easy to scale:\n",
        "The structured and modular nature of the code makes it easier to scale the API as needed.\n"
      ],
      "metadata": {
        "id": "36IHDosqr-Sr"
      }
    },
    {
      "cell_type": "markdown",
      "source": [
        "23. **What is the role of Flask’s session object?**\n",
        "-   In Flask, sessions provide a way to store user-specific information across multiple requests. They allow you to persist data between different interactions with a web application, such as user authentication, preferences, or any other data that needs to be preserved across requests. Flask uses a session object to manage this functionality.\n",
        "-   Key Functions:\n",
        "  - **Persisting User Data** : The session object is crucial for maintaining user-specific information between different interactions with a web application.\n",
        "  - **Managing User Sessions** : It allows developers to track user logins, preferences, shopping cart items, and other data that needs to be associated with a particular user.\n",
        "  - **Dictionary-like Interface** : The session object provides a dictionary-like interface, making it easy to store and retrieve data using key-value pairs.\n",
        "  - **Client-Side Storage** : Flask sessions typically store data in cookies on the user's browser, but they are signed and secured by the server.\n",
        "  - **Security** : The server uses a secret key to sign the session cookies, preventing users from modifying the data without authorization.\n",
        "-   How it works:\n",
        "  - **Data Storage** : When you store data in the session object (e.g., session['username'] = 'user123'), Flask serializes this data and stores it as a cookie on the user's browser.\n",
        "  - **Data Retrieval** : When the user makes subsequent requests, Flask reads the session cookie, deserializes the data, and makes it available in the session object for that request.\n",
        "  - **Session Timeout** : By default, session data persists until the user closes their browser. You can configure session timeouts and make sessions permanent for longer durations.\n",
        "  -** Security** : The secret key is essential for securing the session data. It's crucial to keep this key secret and not expose it in your code.   "
      ],
      "metadata": {
        "id": "-VEPqeBXtu6g"
      }
    },
    {
      "cell_type": "markdown",
      "source": [
        "# **Practical Questions**"
      ],
      "metadata": {
        "id": "Vu81K0byw9E8"
      }
    },
    {
      "cell_type": "markdown",
      "source": [
        "1.  **How do you create a basic Flask application?**"
      ],
      "metadata": {
        "id": "yNvd6ZJLxTbb"
      }
    },
    {
      "cell_type": "markdown",
      "source": [
        "2. **How do you serve static files like images or CSS in Flask?**"
      ],
      "metadata": {
        "id": "L9cgRDPg2EqI"
      }
    },
    {
      "cell_type": "code",
      "source": [],
      "metadata": {
        "id": "rnA6RdUw2KoR"
      },
      "execution_count": null,
      "outputs": []
    },
    {
      "cell_type": "markdown",
      "source": [
        "3. **How do you define different routes with different HTTP methods in Flask**."
      ],
      "metadata": {
        "id": "ZZyIdEg6-vkF"
      }
    },
    {
      "cell_type": "code",
      "source": [
        "@app.route('/example', methods=['GET', 'POST'])\n",
        "def example():\n",
        "    if request.method == 'GET':\n",
        "        return 'This is a GET request'\n",
        "    elif request.method == 'POST':\n",
        "        return 'This is a POST request'\n",
        "\n",
        "from flask import Flask, request\n",
        "\n",
        "app = Flask(__name__)\n",
        "\n",
        "# Route that handles GET requests\n",
        "@app.route('/hello', methods=['GET'])\n",
        "def hello():\n",
        "    return 'Hello, this is a GET request!'\n",
        "\n",
        "# Route that handles POST requests\n",
        "@app.route('/submit', methods=['POST'])\n",
        "def submit():\n",
        "    data = request.get_json()\n",
        "    return f\"Data received: {data}\", 201\n",
        "\n",
        "# Route that handles multiple methods\n",
        "@app.route('/user', methods=['GET', 'POST'])\n",
        "def user():\n",
        "    if request.method == 'GET':\n",
        "        return 'Fetching user info...'\n",
        "    elif request.method == 'POST':\n",
        "        user_data = request.get_json()\n",
        "        return f\"Creating user: {user_data}\", 201\n"
      ],
      "metadata": {
        "id": "I2jT5uDV-yku"
      },
      "execution_count": 11,
      "outputs": []
    },
    {
      "cell_type": "markdown",
      "source": [
        "4. **How do you render HTML templates in Flask**"
      ],
      "metadata": {
        "id": "5HRkXCX3_HUi"
      }
    },
    {
      "cell_type": "code",
      "source": [
        "from flask import Flask, render_template\n",
        "\n",
        "app = Flask(__name__)\n",
        "\n",
        "@app.route('/')\n",
        "def home():\n",
        "    return render_template('index.html', name='Flask User')\n",
        "\n",
        "if __name__ == '__main__':\n",
        "    app.run(debug=True)\n"
      ],
      "metadata": {
        "colab": {
          "base_uri": "https://localhost:8080/"
        },
        "id": "l20ayHdY_LgO",
        "outputId": "2c30aff4-66df-49d9-8117-e0cd4cac46dc"
      },
      "execution_count": 12,
      "outputs": [
        {
          "output_type": "stream",
          "name": "stdout",
          "text": [
            " * Serving Flask app '__main__'\n",
            " * Debug mode: on\n"
          ]
        },
        {
          "output_type": "stream",
          "name": "stderr",
          "text": [
            "INFO:werkzeug:\u001b[31m\u001b[1mWARNING: This is a development server. Do not use it in a production deployment. Use a production WSGI server instead.\u001b[0m\n",
            " * Running on http://127.0.0.1:5000\n",
            "INFO:werkzeug:\u001b[33mPress CTRL+C to quit\u001b[0m\n",
            "INFO:werkzeug: * Restarting with stat\n"
          ]
        }
      ]
    },
    {
      "cell_type": "markdown",
      "source": [
        "5.  **How can you generate URLs for routes in Flask using url_for**"
      ],
      "metadata": {
        "id": "oFs89nXS_-l-"
      }
    },
    {
      "cell_type": "code",
      "source": [
        "from flask import Flask, url_for\n",
        "\n",
        "app = Flask(__name__)\n",
        "\n",
        "@app.route('/about')\n",
        "def about():\n",
        "    return 'About Page'\n",
        "\n",
        "@app.route('/')\n",
        "def home():\n",
        "    # Generate URL for the 'about' route\n",
        "    return f'Go to the <a href=\"{url_for(\"about\")}\">About Page</a>'\n"
      ],
      "metadata": {
        "id": "h2dbKkrwADJs"
      },
      "execution_count": 13,
      "outputs": []
    },
    {
      "cell_type": "markdown",
      "source": [
        "6. **How do you handle forms in Flask?**"
      ],
      "metadata": {
        "id": "oVEQbjVTAOdy"
      }
    },
    {
      "cell_type": "code",
      "source": [],
      "metadata": {
        "id": "jKMhzfebATJ7"
      },
      "execution_count": null,
      "outputs": []
    },
    {
      "cell_type": "markdown",
      "source": [
        "7. **How can you validate form data in Flask?**"
      ],
      "metadata": {
        "id": "F9qMMzISA7BU"
      }
    },
    {
      "cell_type": "code",
      "source": [
        "from flask import Flask, request, render_template\n",
        "\n",
        "app = Flask(__name__)\n",
        "\n",
        "@app.route('/', methods=['GET', 'POST'])\n",
        "def form():\n",
        "    error = None\n",
        "    if request.method == 'POST':\n",
        "        username = request.form.get('username')\n",
        "        if not username:\n",
        "            error = \"Username is required.\"\n",
        "        elif len(username) < 3:\n",
        "            error = \"Username must be at least 3 characters long.\"\n",
        "        else:\n",
        "            return f\"Hello, {username}!\"\n",
        "    return render_template('form.html', error=error)\n"
      ],
      "metadata": {
        "id": "ib-qTwfRA_W0"
      },
      "execution_count": 14,
      "outputs": []
    },
    {
      "cell_type": "markdown",
      "source": [
        "8. **How do you manage sessions in Flask?**"
      ],
      "metadata": {
        "id": "FAlT3VpwBMgM"
      }
    },
    {
      "cell_type": "code",
      "source": [
        "from flask import Flask, session, redirect, url_for, request\n",
        "\n",
        "app = Flask(__name__)\n",
        "app.secret_key = 'your_secret_key'  # Required to use sessions\n",
        "\n",
        "@app.route('/')\n",
        "def index():\n",
        "    if 'username' in session:\n",
        "        return f\"Welcome back, {session['username']}!\"\n",
        "    return \"You are not logged in.\"\n",
        "\n",
        "@app.route('/login', methods=['GET', 'POST'])\n",
        "def login():\n",
        "    if request.method == 'POST':\n",
        "        session['username'] = request.form['username']\n",
        "        return redirect(url_for('index'))\n",
        "    return '''\n",
        "        <form method=\"post\">\n",
        "            <input type=\"text\" name=\"username\">\n",
        "            <input type=\"submit\" value=\"Login\">\n",
        "        </form>\n",
        "    '''\n",
        "\n",
        "@app.route('/logout')\n",
        "def logout():\n",
        "    session.pop('username', None)  # Remove user from session\n",
        "    return redirect(url_for('index'))\n",
        "\n",
        "if __name__ == '__main__':\n",
        "    app.run(debug=True)\n"
      ],
      "metadata": {
        "colab": {
          "base_uri": "https://localhost:8080/"
        },
        "id": "yUBXvv1OBTAq",
        "outputId": "b35defab-259e-4418-9923-65ff5827a28c"
      },
      "execution_count": null,
      "outputs": [
        {
          "output_type": "stream",
          "name": "stdout",
          "text": [
            " * Serving Flask app '__main__'\n",
            " * Debug mode: on\n"
          ]
        },
        {
          "output_type": "stream",
          "name": "stderr",
          "text": [
            "INFO:werkzeug:\u001b[31m\u001b[1mWARNING: This is a development server. Do not use it in a production deployment. Use a production WSGI server instead.\u001b[0m\n",
            " * Running on http://127.0.0.1:5000\n",
            "INFO:werkzeug:\u001b[33mPress CTRL+C to quit\u001b[0m\n",
            "INFO:werkzeug: * Restarting with stat\n"
          ]
        }
      ]
    },
    {
      "cell_type": "markdown",
      "source": [
        "9.  **How do you redirect to a different route in Flask?**"
      ],
      "metadata": {
        "id": "ldEcsx4GBl2u"
      }
    },
    {
      "cell_type": "code",
      "source": [
        "from flask import Flask, redirect, url_for\n",
        "\n",
        "app = Flask(__name__)\n",
        "\n",
        "@app.route('/')\n",
        "def home():\n",
        "    return 'Welcome to the homepage!'\n",
        "\n",
        "@app.route('/login')\n",
        "def login():\n",
        "    # Simulate login logic here\n",
        "    return redirect(url_for('dashboard'))\n",
        "\n",
        "@app.route('/dashboard')\n",
        "def dashboard():\n",
        "    return 'This is the dashboard!'\n"
      ],
      "metadata": {
        "id": "J7asTzX2BtdS"
      },
      "execution_count": null,
      "outputs": []
    },
    {
      "cell_type": "markdown",
      "source": [
        "10. **How do you handle errors in Flask (e.g., 404)?**"
      ],
      "metadata": {
        "id": "A5WD24QMCQv0"
      }
    },
    {
      "cell_type": "code",
      "source": [
        "from flask import Flask, render_template\n",
        "\n",
        "app = Flask(__name__)\n",
        "\n",
        "@app.errorhandler(404)\n",
        "def page_not_found(error):\n",
        "    return render_template('404.html'), 404\n"
      ],
      "metadata": {
        "id": "ZcZle_CNCYSW"
      },
      "execution_count": null,
      "outputs": []
    },
    {
      "cell_type": "markdown",
      "source": [
        "11. **How do you structure a Flask app using Blueprints?**"
      ],
      "metadata": {
        "id": "l8a_aEMlCgP0"
      }
    },
    {
      "cell_type": "code",
      "source": [
        "from flask import Blueprint, render_template\n",
        "\n",
        "auth_bp = Blueprint('auth', __name__, url_prefix='/auth')\n",
        "\n",
        "@auth_bp.route('/login')\n",
        "def login():\n",
        "    return render_template('auth/login.html')\n",
        "\n",
        "\n",
        "from flask import Flask\n",
        "from auth.routes import auth_bp\n",
        "\n",
        "app = Flask(__name__)\n",
        "\n",
        "app.register_blueprint(auth_bp)\n",
        "\n",
        "@app.route('/')\n",
        "def home():\n",
        "    return \"Welcome to the homepage!\"\n",
        "\n",
        "if __name__ == '__main__':\n",
        "    app.run(debug=True)\n"
      ],
      "metadata": {
        "id": "s9HDM0psCn-B"
      },
      "execution_count": null,
      "outputs": []
    },
    {
      "cell_type": "markdown",
      "source": [
        "12. **How do you define a custom Jinja filter in Flask?**\n"
      ],
      "metadata": {
        "id": "joU-gssoDEdJ"
      }
    },
    {
      "cell_type": "code",
      "source": [
        "def reverse_string(s):\n",
        "    return s[::-1]\n",
        "\n",
        "from flask import Flask\n",
        "\n",
        "app = Flask(__name__)\n",
        "\n",
        "@app.template_filter('reverse')\n",
        "def reverse_string(s):\n",
        "    return s[::-1]\n"
      ],
      "metadata": {
        "id": "rI3-zOYkDKde"
      },
      "execution_count": null,
      "outputs": []
    },
    {
      "cell_type": "markdown",
      "source": [
        "13.  **How can you redirect with query parameters in Flask?**"
      ],
      "metadata": {
        "id": "uXIR8K96DYVv"
      }
    },
    {
      "cell_type": "code",
      "source": [
        "from flask import Flask, redirect, url_for\n",
        "\n",
        "app = Flask(__name__)\n",
        "\n",
        "@app.route('/search')\n",
        "def search():\n",
        "    query = 'flask'\n",
        "    # Redirect to /results?q=flask&page=2\n",
        "    return redirect(url_for('results', q=query, page=2))\n",
        "\n",
        "@app.route('/results')\n",
        "def results():\n",
        "    # Access query parameters via request.args (if needed)\n",
        "    return 'Search results page'\n",
        "\n",
        "if __name__ == '__main__':\n",
        "    app.run(debug=True)\n",
        "\n"
      ],
      "metadata": {
        "id": "xPQ1T2dADi_i"
      },
      "execution_count": null,
      "outputs": []
    },
    {
      "cell_type": "markdown",
      "source": [
        "14. **How do you return JSON responses in Flask?**"
      ],
      "metadata": {
        "id": "HliTmTW9D1sK"
      }
    },
    {
      "cell_type": "code",
      "source": [
        "from flask import Flask, jsonify\n",
        "\n",
        "app = Flask(__name__)\n",
        "\n",
        "@app.route('/api/data')\n",
        "def data():\n",
        "    sample_data = {\n",
        "        \"name\": \"Alice\",\n",
        "        \"age\": 30,\n",
        "        \"city\": \"Wonderland\"\n",
        "    }\n",
        "    return jsonify(sample_data)\n",
        "\n",
        "from flask import Response\n",
        "import json\n",
        "\n",
        "@app.route('/api/manual')\n",
        "def manual_json():\n",
        "    data = {\"status\": \"success\"}\n",
        "    response = Response(json.dumps(data), mimetype='application/json')\n",
        "    return response\n"
      ],
      "metadata": {
        "id": "ZosjuIi7D63e"
      },
      "execution_count": null,
      "outputs": []
    },
    {
      "cell_type": "markdown",
      "source": [
        "15. **How do you capture URL parameters in Flask?**"
      ],
      "metadata": {
        "id": "1PX19wGWEbmM"
      }
    },
    {
      "cell_type": "code",
      "source": [
        "@app.route('/user/<username>')\n",
        "def show_user(username):\n",
        "    return f'User: {username}'\n",
        "\n",
        "\n"
      ],
      "metadata": {
        "id": "JLWqjoD2Eh7u"
      },
      "execution_count": null,
      "outputs": []
    }
  ]
}